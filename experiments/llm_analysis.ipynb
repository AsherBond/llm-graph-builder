{
 "cells": [
  {
   "cell_type": "code",
   "execution_count": 2,
   "metadata": {},
   "outputs": [],
   "source": [
    "import os\n",
    "from dotenv import load_dotenv\n",
    "from langchain_experimental.graph_transformers import LLMGraphTransformer\n",
    "from langchain_core.documents import Document\n",
    "\n",
    "load_dotenv()\n",
    "content = \"\"\"Stephen Hawking (born January 8, 1942, Oxford, Oxfordshire, England—died March 14, 2018, Cambridge, \n",
    "Cambridgeshire) was an English theoretical physicist whose theory of exploding black holes drew upon both relativity \n",
    "theory and quantum mechanics. He also worked with space-time singularities.\n",
    "Hawking studied physics at University College, Oxford (B.A., 1962), and Trinity Hall, Cambridge (Ph.D., 1966). \n",
    "He was elected a research fellow at Gonville and Caius College at Cambridge. In the early 1960s Hawking contracted \n",
    "amyotrophic lateral sclerosis, an incurable degenerative neuromuscular disease. He continued to work despite the \n",
    "disease’s progressively disabling effects.Hawking worked primarily in the field of general relativity and particularly \n",
    "on the physics of black holes. In 1971 he suggested the formation, following the big bang, of numerous objects \n",
    "containing as much as one billion tons of mass but occupying only the space of a proton. These objects, called \n",
    "mini black holes, are unique in that their immense mass and gravity require that they be ruled by the laws of \n",
    "relativity, while their minute size requires that the laws of quantum mechanics apply to them also.\"\"\"\n",
    "\n",
    "docs = [Document(page_content=content)]\n"
   ]
  },
  {
   "cell_type": "markdown",
   "metadata": {},
   "source": [
    "Fireworks"
   ]
  },
  {
   "cell_type": "code",
   "execution_count": 3,
   "metadata": {},
   "outputs": [
    {
     "name": "stdout",
     "output_type": "stream",
     "text": [
      "[GraphDocument(nodes=[], relationships=[], source=Document(page_content='Stephen Hawking (born January 8, 1942, Oxford, Oxfordshire, England—died March 14, 2018, Cambridge, \\nCambridgeshire) was an English theoretical physicist whose theory of exploding black holes drew upon both relativity \\ntheory and quantum mechanics. He also worked with space-time singularities.\\nHawking studied physics at University College, Oxford (B.A., 1962), and Trinity Hall, Cambridge (Ph.D., 1966). \\nHe was elected a research fellow at Gonville and Caius College at Cambridge. In the early 1960s Hawking contracted \\namyotrophic lateral sclerosis, an incurable degenerative neuromuscular disease. He continued to work despite the \\ndisease’s progressively disabling effects.Hawking worked primarily in the field of general relativity and particularly \\non the physics of black holes. In 1971 he suggested the formation, following the big bang, of numerous objects \\ncontaining as much as one billion tons of mass but occupying only the space of a proton. These objects, called \\nmini black holes, are unique in that their immense mass and gravity require that they be ruled by the laws of \\nrelativity, while their minute size requires that the laws of quantum mechanics apply to them also.'))]\n",
      "Node count = 0, relationship count = 0\n"
     ]
    },
    {
     "name": "stderr",
     "output_type": "stream",
     "text": [
      "Failed to batch ingest runs: LangSmithRateLimitError('Rate limit exceeded for https://api.smith.langchain.com/runs/batch. HTTPError(\\'429 Client Error: Too Many Requests for url: https://api.smith.langchain.com/runs/batch\\', \\'{\"detail\":\"Usage limit monthly_traces of 10000 exceeded\"}\\')')\n"
     ]
    }
   ],
   "source": [
    "\n",
    "#fireworks - llama3 70b model\n",
    "\n",
    "from langchain_fireworks import ChatFireworks\n",
    "\n",
    "model_name, api_key = os.environ.get(\"LLM_MODEL_CONFIG_fireworks_llama_v3_70b\").split(',')\n",
    "fireworks_llm = ChatFireworks(\n",
    "            api_key=api_key,\n",
    "            model=\"accounts/fireworks/models/llama-v3-70b-instruct\"\n",
    "        ) \n",
    "\n",
    "llm_transformer = LLMGraphTransformer(llm=fireworks_llm)\n",
    "graph_document = llm_transformer.convert_to_graph_documents(docs)\n",
    "print(graph_document)\n",
    "print(f\"Node count = {len(graph_document[0].nodes)}, relationship count = {len(graph_document[0].relationships)}\")\n"
   ]
  },
  {
   "cell_type": "code",
   "execution_count": 37,
   "metadata": {},
   "outputs": [
    {
     "name": "stdout",
     "output_type": "stream",
     "text": [
      "[GraphDocument(nodes=[Node(id='Stephen Hawking', type='Person'), Node(id='Oxford', type='Location'), Node(id='Oxfordshire', type='Location'), Node(id='England', type='Location'), Node(id='Cambridge', type='Location'), Node(id='Cambridgeshire', type='Location'), Node(id='University College, Oxford', type='Organization'), Node(id='Trinity Hall, Cambridge', type='Organization'), Node(id='Gonville And Caius College', type='Organization')], relationships=[Relationship(source=Node(id='Stephen Hawking', type='Person'), target=Node(id='Oxford', type='Location'), type='BORN_IN'), Relationship(source=Node(id='Stephen Hawking', type='Person'), target=Node(id='Cambridge', type='Location'), type='DIED_IN'), Relationship(source=Node(id='Stephen Hawking', type='Person'), target=Node(id='University College, Oxford', type='Organization'), type='STUDIED_AT'), Relationship(source=Node(id='Stephen Hawking', type='Person'), target=Node(id='Trinity Hall, Cambridge', type='Organization'), type='STUDIED_AT'), Relationship(source=Node(id='Stephen Hawking', type='Person'), target=Node(id='Gonville And Caius College', type='Organization'), type='WORKED_AT')], source=Document(page_content='Stephen Hawking (born January 8, 1942, Oxford, Oxfordshire, England—died March 14, 2018, Cambridge, \\nCambridgeshire) was an English theoretical physicist whose theory of exploding black holes drew upon both relativity \\ntheory and quantum mechanics. He also worked with space-time singularities.\\nHawking studied physics at University College, Oxford (B.A., 1962), and Trinity Hall, Cambridge (Ph.D., 1966). \\nHe was elected a research fellow at Gonville and Caius College at Cambridge. In the early 1960s Hawking contracted \\namyotrophic lateral sclerosis, an incurable degenerative neuromuscular disease. He continued to work despite the \\ndisease’s progressively disabling effects.Hawking worked primarily in the field of general relativity and particularly \\non the physics of black holes. In 1971 he suggested the formation, following the big bang, of numerous objects \\ncontaining as much as one billion tons of mass but occupying only the space of a proton. These objects, called \\nmini black holes, are unique in that their immense mass and gravity require that they be ruled by the laws of \\nrelativity, while their minute size requires that the laws of quantum mechanics apply to them also.'))]\n",
      "Node count = 9, relationship count = 5\n"
     ]
    },
    {
     "name": "stderr",
     "output_type": "stream",
     "text": [
      "Failed to batch ingest runs: LangSmithRateLimitError('Rate limit exceeded for https://api.smith.langchain.com/runs/batch. HTTPError(\\'429 Client Error: Too Many Requests for url: https://api.smith.langchain.com/runs/batch\\', \\'{\"detail\":\"Usage limit monthly_traces of 10000 exceeded\"}\\')')\n",
      "Failed to batch ingest runs: LangSmithRateLimitError('Rate limit exceeded for https://api.smith.langchain.com/runs/batch. HTTPError(\\'429 Client Error: Too Many Requests for url: https://api.smith.langchain.com/runs/batch\\', \\'{\"detail\":\"Usage limit monthly_traces of 10000 exceeded\"}\\')')\n"
     ]
    }
   ],
   "source": [
    "\n",
    "#fireworks - Firefunction-v2 model\n",
    "#Firefunction-v2 is based on Llama-3 and trained to excel at function-calling as well as chat and instruction-following\n",
    "\n",
    "from langchain_fireworks import ChatFireworks\n",
    "\n",
    "model_name, api_key = os.environ.get(\"LLM_MODEL_CONFIG_fireworks_firefunction_v2\").split(',')\n",
    "fireworks_llm = ChatFireworks(\n",
    "            api_key=api_key,\n",
    "            model=\"accounts/fireworks/models/firefunction-v2\"\n",
    "        ) \n",
    "\n",
    "llm_transformer = LLMGraphTransformer(llm=fireworks_llm)\n",
    "graph_document = llm_transformer.convert_to_graph_documents(docs)\n",
    "print(graph_document)\n",
    "print(f\"Node count = {len(graph_document[0].nodes)}, relationship count = {len(graph_document[0].relationships)}\")\n"
   ]
  },
  {
   "cell_type": "code",
   "execution_count": 4,
   "metadata": {},
   "outputs": [
    {
     "name": "stderr",
     "output_type": "stream",
     "text": [
      "Failed to batch ingest runs: LangSmithRateLimitError('Rate limit exceeded for https://api.smith.langchain.com/runs/batch. HTTPError(\\'429 Client Error: Too Many Requests for url: https://api.smith.langchain.com/runs/batch\\', \\'{\"detail\":\"Usage limit monthly_traces of 10000 exceeded\"}\\')')\n"
     ]
    },
    {
     "name": "stdout",
     "output_type": "stream",
     "text": [
      "[GraphDocument(nodes=[], relationships=[], source=Document(page_content='Stephen Hawking (born January 8, 1942, Oxford, Oxfordshire, England—died March 14, 2018, Cambridge, \\nCambridgeshire) was an English theoretical physicist whose theory of exploding black holes drew upon both relativity \\ntheory and quantum mechanics. He also worked with space-time singularities.\\nHawking studied physics at University College, Oxford (B.A., 1962), and Trinity Hall, Cambridge (Ph.D., 1966). \\nHe was elected a research fellow at Gonville and Caius College at Cambridge. In the early 1960s Hawking contracted \\namyotrophic lateral sclerosis, an incurable degenerative neuromuscular disease. He continued to work despite the \\ndisease’s progressively disabling effects.Hawking worked primarily in the field of general relativity and particularly \\non the physics of black holes. In 1971 he suggested the formation, following the big bang, of numerous objects \\ncontaining as much as one billion tons of mass but occupying only the space of a proton. These objects, called \\nmini black holes, are unique in that their immense mass and gravity require that they be ruled by the laws of \\nrelativity, while their minute size requires that the laws of quantum mechanics apply to them also.'))]\n",
      "Node count = 0, relationship count = 0\n"
     ]
    }
   ],
   "source": [
    "\n",
    "#fireworks - qwen2-72b model\n",
    "\n",
    "from langchain_fireworks import ChatFireworks\n",
    "\n",
    "model_name, api_key = os.environ.get(\"LLM_MODEL_CONFIG_fireworks_qwen_72b\").split(',')\n",
    "fireworks_llm = ChatFireworks(\n",
    "            api_key=api_key,\n",
    "            model=\"accounts/fireworks/models/qwen2-72b-instruct\"\n",
    "        ) \n",
    "\n",
    "llm_transformer = LLMGraphTransformer(llm=fireworks_llm)\n",
    "graph_document = llm_transformer.convert_to_graph_documents(docs)\n",
    "print(graph_document)\n",
    "print(f\"Node count = {len(graph_document[0].nodes)}, relationship count = {len(graph_document[0].relationships)}\")\n"
   ]
  },
  {
   "cell_type": "code",
   "execution_count": 6,
   "metadata": {},
   "outputs": [
    {
     "data": {
      "text/plain": [
       "[GraphDocument(nodes=[], relationships=[], source=Document(page_content='Stephen Hawking (born January 8, 1942, Oxford, Oxfordshire, England—died March 14, 2018, Cambridge, \\nCambridgeshire) was an English theoretical physicist whose theory of exploding black holes drew upon both relativity \\ntheory and quantum mechanics. He also worked with space-time singularities.\\nHawking studied physics at University College, Oxford (B.A., 1962), and Trinity Hall, Cambridge (Ph.D., 1966). \\nHe was elected a research fellow at Gonville and Caius College at Cambridge. In the early 1960s Hawking contracted \\namyotrophic lateral sclerosis, an incurable degenerative neuromuscular disease. He continued to work despite the \\ndisease’s progressively disabling effects.Hawking worked primarily in the field of general relativity and particularly \\non the physics of black holes. In 1971 he suggested the formation, following the big bang, of numerous objects \\ncontaining as much as one billion tons of mass but occupying only the space of a proton. These objects, called \\nmini black holes, are unique in that their immense mass and gravity require that they be ruled by the laws of \\nrelativity, while their minute size requires that the laws of quantum mechanics apply to them also.'))]"
      ]
     },
     "execution_count": 6,
     "metadata": {},
     "output_type": "execute_result"
    },
    {
     "name": "stderr",
     "output_type": "stream",
     "text": [
      "Failed to batch ingest runs: LangSmithRateLimitError('Rate limit exceeded for https://api.smith.langchain.com/runs/batch. HTTPError(\\'429 Client Error: Too Many Requests for url: https://api.smith.langchain.com/runs/batch\\', \\'{\"detail\":\"Usage limit monthly_traces of 10000 exceeded\"}\\')')\n"
     ]
    }
   ],
   "source": [
    "\n",
    "#fireworks\n",
    "from langchain_fireworks import ChatFireworks\n",
    "from langchain_core.prompts import ChatPromptTemplate\n",
    "\n",
    "model_name, api_key = os.environ.get(\"LLM_MODEL_CONFIG_fireworks_qwen_72b\").split(',')\n",
    "fireworks_llm = ChatFireworks(\n",
    "            api_key=api_key,\n",
    "            model=model_name\n",
    "        ) \n",
    "prompt1 = ChatPromptTemplate.from_messages([\n",
    "        (\n",
    "            \"human\",\n",
    "            (\n",
    "                \"Get nodes and relations from the given page_content in the Document object\"\n",
    "            ),\n",
    "        ),\n",
    "    ])\n",
    "llm_transformer = LLMGraphTransformer(prompt=prompt1, llm=fireworks_llm, node_properties=[\"description\"])\n",
    "llm_transformer.convert_to_graph_documents(docs)"
   ]
  },
  {
   "cell_type": "code",
   "execution_count": 11,
   "metadata": {},
   "outputs": [
    {
     "name": "stdout",
     "output_type": "stream",
     "text": [
      "[GraphDocument(nodes=[], relationships=[], source=Document(page_content='Stephen Hawking (born January 8, 1942, Oxford, Oxfordshire, England—died March 14, 2018, Cambridge, \\nCambridgeshire) was an English theoretical physicist whose theory of exploding black holes drew upon both relativity \\ntheory and quantum mechanics. He also worked with space-time singularities.\\nHawking studied physics at University College, Oxford (B.A., 1962), and Trinity Hall, Cambridge (Ph.D., 1966). \\nHe was elected a research fellow at Gonville and Caius College at Cambridge. In the early 1960s Hawking contracted \\namyotrophic lateral sclerosis, an incurable degenerative neuromuscular disease. He continued to work despite the \\ndisease’s progressively disabling effects.Hawking worked primarily in the field of general relativity and particularly \\non the physics of black holes. In 1971 he suggested the formation, following the big bang, of numerous objects \\ncontaining as much as one billion tons of mass but occupying only the space of a proton. These objects, called \\nmini black holes, are unique in that their immense mass and gravity require that they be ruled by the laws of \\nrelativity, while their minute size requires that the laws of quantum mechanics apply to them also.'))]\n",
      "Node count = 0, relationship count = 0\n"
     ]
    }
   ],
   "source": [
    "#fireworks qwen model with prompt2\n",
    "\n",
    "prompt2= \"\"\"Extract nodes and relations from the following text to build a knowledge graph. Identify entities \n",
    "and concepts as nodes, and label them with basic or elementary types (e.g., 'person', 'organization', 'location'). \n",
    "Use human-readable identifiers as node IDs, and ensure consistency in node labels and IDs. Extract relationships \n",
    "between nodes, using general and timeless relationship types (e.g., 'PROFESSOR', 'MEMBER_OF', 'LOCATED_IN'). \n",
    "Maintain entity consistency by using the most complete identifier for each entity throughout the graph. \n",
    "Provide the extracted nodes and relations in a structured format.\"\"\"\n",
    "\n",
    "from langchain_fireworks import ChatFireworks\n",
    "from langchain_core.prompts import ChatPromptTemplate\n",
    "\n",
    "model_name, api_key = os.environ.get(\"LLM_MODEL_CONFIG_fireworks_qwen_72b\").split(',')\n",
    "fireworks_llm = ChatFireworks(\n",
    "            api_key=api_key,\n",
    "            model=model_name\n",
    "        ) \n",
    "prompt = ChatPromptTemplate.from_messages([\n",
    "        (\"human\",(prompt2)),\n",
    "    ])\n",
    "llm_transformer = LLMGraphTransformer(prompt=prompt, llm=fireworks_llm, node_properties=[\"description\"])\n",
    "graph_document = llm_transformer.convert_to_graph_documents(docs)\n",
    "print(graph_document)\n",
    "print(f\"Node count = {len(graph_document[0].nodes)}, relationship count = {len(graph_document[0].relationships)}\")\n"
   ]
  },
  {
   "cell_type": "code",
   "execution_count": 12,
   "metadata": {},
   "outputs": [
    {
     "data": {
      "text/plain": [
       "AIMessage(content=\"### Nodes and Relationships\\n\\n#### Nodes\\n1. **Stephen Hawking**\\n   - **Birth Date**: January 8, 1942\\n   - **Birth Place**: Oxford, Oxfordshire, England\\n   - **Death Date**: March 14, 2018\\n   - **Death Place**: Cambridge, Cambridgeshire\\n   - **Occupation**: English theoretical physicist\\n   - **Education**: University College, Oxford (B.A., 1962)\\n   - **Education**: Trinity Hall, Cambridge (Ph.D., 1966)\\n   - **Affiliation**: Gonville and Caius College, Cambridge (Research Fellow)\\n   - **Disease**: Amyotrophic lateral sclerosis\\n\\n2. **Relativity Theory**\\n   - **Relevance**: Stephen Hawking's work\\n\\n3. **Quantum Mechanics**\\n   - **Relevance**: Stephen Hawking's work\\n\\n4. **Space-Time Singularities**\\n   - **Relevance**: Stephen Hawking's work\\n\\n5. **Exploding Black Holes**\\n   - **Relevance**: Stephen Hawking's theory\\n\\n6. **Big Bang**\\n   - **Relevance**: Stephen Hawking's work\\n\\n7. **Mini Black Holes**\\n   - **Relevance**: Stephen Hawking's theory\\n   - **Characteristics**: Immense mass, minute size, governed by laws of relativity and quantum mechanics\\n\\n#### Relationships\\n1. **Stephen Hawking** - **Studied at** - **University College, Oxford**\\n2. **Stephen Hawking** - **Studied at** - **Trinity Hall, Cambridge**\\n3. **Stephen Hawking** - **Affiliated with** - **Gonville and Caius College, Cambridge**\\n4. **Stephen Hawking** - **Contributed to** - **Relativity Theory**\\n5. **Stephen Hawking** - **Contributed to** - **Quantum Mechanics**\\n6. **Stephen Hawking** - **Contributed to** - **Space-Time Singularities**\\n7. **Stephen Hawking** - **Developed theory of** - **Exploding Black Holes**\\n8. **Stephen Hawking** - **Suggested formation of** - **Mini Black Holes**\\n9. **Stephen Hawking** - **Contracted** - **Amyotrophic lateral sclerosis**\\n10. **Mini Black Holes** - **Governed by** - **Relativity Theory**\\n11. **Mini Black Holes** - **Governed by** - **Quantum Mechanics**\\n12. **Mini Black Holes** - **Formed after** - **Big Bang**\", response_metadata={'token_usage': {'prompt_tokens': 320, 'total_tokens': 871, 'completion_tokens': 551}, 'model_name': 'accounts/fireworks/models/qwen2-72b-instruct', 'system_fingerprint': '', 'finish_reason': 'stop', 'logprobs': None}, id='run-a6c83b84-c597-4714-8cfd-63ffff18e61e-0', usage_metadata={'input_tokens': 320, 'output_tokens': 551, 'total_tokens': 871})"
      ]
     },
     "execution_count": 12,
     "metadata": {},
     "output_type": "execute_result"
    },
    {
     "name": "stderr",
     "output_type": "stream",
     "text": [
      "Failed to batch ingest runs: LangSmithRateLimitError('Rate limit exceeded for https://api.smith.langchain.com/runs/batch. HTTPError(\\'429 Client Error: Too Many Requests for url: https://api.smith.langchain.com/runs/batch\\', \\'{\"detail\":\"Usage limit monthly_traces of 10000 exceeded\"}\\')')\n",
      "Failed to batch ingest runs: LangSmithRateLimitError('Rate limit exceeded for https://api.smith.langchain.com/runs/batch. HTTPError(\\'429 Client Error: Too Many Requests for url: https://api.smith.langchain.com/runs/batch\\', \\'{\"detail\":\"Usage limit monthly_traces of 10000 exceeded\"}\\')')\n"
     ]
    }
   ],
   "source": [
    "\n",
    "#fireworks qwen 72b- invoking llm with basic prompt\n",
    "from langchain_fireworks import ChatFireworks\n",
    "\n",
    "model_name, api_key = os.environ.get(\"LLM_MODEL_CONFIG_fireworks_qwen_72b\").split(',')\n",
    "fireworks_llm = ChatFireworks(\n",
    "            verbose=True,\n",
    "            api_key=api_key,\n",
    "            model=model_name\n",
    "        ) \n",
    "\n",
    "\n",
    "fireworks_llm.invoke(input=f\"Get nodes and relationships from given document {docs}\")"
   ]
  },
  {
   "cell_type": "code",
   "execution_count": 13,
   "metadata": {},
   "outputs": [
    {
     "data": {
      "text/plain": [
       "AIMessage(content='Here are the nodes and relationships that can be extracted from the given document:\\n\\n**Nodes:**\\n\\n1. **Person**: Stephen Hawking\\n\\t* Properties: born, died, nationality (English), occupation (theoretical physicist)\\n2. **Location**: Oxford\\n\\t* Properties: city, county (Oxfordshire), country (England)\\n3. **Location**: Cambridge\\n\\t* Properties: city, county (Cambridgeshire), country (England)\\n4. **Education**: University College, Oxford\\n\\t* Properties: institution, degree (B.A.), year (1962)\\n5. **Education**: Trinity Hall, Cambridge\\n\\t* Properties: institution, degree (Ph.D.), year (1966)\\n6. **Organization**: Gonville and Caius College\\n\\t* Properties: institution, location (Cambridge)\\n7. **Disease**: Amyotrophic lateral sclerosis\\n\\t* Properties: type (incurable degenerative neuromuscular disease)\\n8. **Theory**: Relativity theory\\n\\t* Properties: field (physics), subfield (general relativity)\\n9. **Theory**: Quantum mechanics\\n\\t* Properties: field (physics), subfield (quantum mechanics)\\n10. **Concept**: Black holes\\n\\t* Properties: field (physics), subfield (astrophysics)\\n11. **Concept**: Space-time singularities\\n\\t* Properties: field (physics), subfield (general relativity)\\n12. **Event**: Big bang\\n\\t* Properties: type (cosmological event)\\n\\n**Relationships:**\\n\\n1. **Person** - **born in** - **Location** (Stephen Hawking - Oxford)\\n2. **Person** - **died in** - **Location** (Stephen Hawking - Cambridge)\\n3. **Person** - **studied at** - **Education** (Stephen Hawking - University College, Oxford)\\n4. **Person** - **studied at** - **Education** (Stephen Hawking - Trinity Hall, Cambridge)\\n5. **Person** - **worked at** - **Organization** (Stephen Hawking - Gonville and Caius College)\\n6. **Person** - **had disease** - **Disease** (Stephen Hawking - Amyotrophic lateral sclerosis)\\n7. **Theory** - **related to** - **Theory** (Relativity theory - Quantum mechanics)\\n8. **Person** - **worked on** - **Concept** (Stephen Hawking - Black holes)\\n9. **Person** - **worked on** - **Concept** (Stephen Hawking - Space-time singularities)\\n10. **Concept** - **related to** - **Event** (Black holes - Big bang)\\n\\nNote that these nodes and relationships are based on a simple extraction and may not be exhaustive or entirely accurate. Further processing and disambiguation may be necessary to refine the extracted information.', response_metadata={'token_usage': {'prompt_tokens': 296, 'total_tokens': 886, 'completion_tokens': 590}, 'model_name': 'accounts/fireworks/models/llama-v3-70b-instruct', 'system_fingerprint': '', 'finish_reason': 'stop', 'logprobs': None}, id='run-02393630-f6f2-4a13-8f31-d74158d954d8-0', usage_metadata={'input_tokens': 296, 'output_tokens': 590, 'total_tokens': 886})"
      ]
     },
     "execution_count": 13,
     "metadata": {},
     "output_type": "execute_result"
    }
   ],
   "source": [
    "\n",
    "#fireworks llama3 70b - invoking llm with basic prompt\n",
    "from langchain_fireworks import ChatFireworks\n",
    "\n",
    "model_name, api_key = os.environ.get(\"LLM_MODEL_CONFIG_fireworks_llama_v3_70b\").split(',')\n",
    "fireworks_llm = ChatFireworks(\n",
    "            verbose=True,\n",
    "            api_key=api_key,\n",
    "            model=model_name\n",
    ")\n",
    "\n",
    "fireworks_llm.invoke(input=f\"Get nodes and relationships from given document {docs}\")"
   ]
  },
  {
   "cell_type": "markdown",
   "metadata": {},
   "source": [
    "Bedrock"
   ]
  },
  {
   "cell_type": "code",
   "execution_count": 24,
   "metadata": {},
   "outputs": [
    {
     "name": "stdout",
     "output_type": "stream",
     "text": [
      "[GraphDocument(nodes=[], relationships=[], source=Document(page_content='Stephen Hawking (born January 8, 1942, Oxford, Oxfordshire, England—died March 14, 2018, Cambridge, \\nCambridgeshire) was an English theoretical physicist whose theory of exploding black holes drew upon both relativity \\ntheory and quantum mechanics. He also worked with space-time singularities.\\nHawking studied physics at University College, Oxford (B.A., 1962), and Trinity Hall, Cambridge (Ph.D., 1966). \\nHe was elected a research fellow at Gonville and Caius College at Cambridge. In the early 1960s Hawking contracted \\namyotrophic lateral sclerosis, an incurable degenerative neuromuscular disease. He continued to work despite the \\ndisease’s progressively disabling effects.Hawking worked primarily in the field of general relativity and particularly \\non the physics of black holes. In 1971 he suggested the formation, following the big bang, of numerous objects \\ncontaining as much as one billion tons of mass but occupying only the space of a proton. These objects, called \\nmini black holes, are unique in that their immense mass and gravity require that they be ruled by the laws of \\nrelativity, while their minute size requires that the laws of quantum mechanics apply to them also.'))]\n",
      "Node count = 0, relationship count = 0\n"
     ]
    },
    {
     "name": "stderr",
     "output_type": "stream",
     "text": [
      "Failed to batch ingest runs: LangSmithRateLimitError('Rate limit exceeded for https://api.smith.langchain.com/runs/batch. HTTPError(\\'429 Client Error: Too Many Requests for url: https://api.smith.langchain.com/runs/batch\\', \\'{\"detail\":\"Usage limit monthly_traces of 10000 exceeded\"}\\')')\n"
     ]
    }
   ],
   "source": [
    "#Bedrock anthropic.claude-3-sonnet-20240229-v1:0 model\n",
    "from langchain_aws import ChatBedrock\n",
    "import boto3\n",
    "\n",
    "model_name,aws_access_key,aws_secret_key,region_name=os.environ.get(\"LLM_MODEL_CONFIG_bedrock_claude_3_5_sonnet\").split(',')\n",
    "bedrock_client = boto3.client(\n",
    "    service_name=\"bedrock-runtime\",\n",
    "    region_name=region_name,\n",
    "    aws_access_key_id=aws_access_key,\n",
    "    aws_secret_access_key=aws_secret_key,\n",
    ")\n",
    "\n",
    "bedrock_llm = ChatBedrock(\n",
    "    client = bedrock_client,\n",
    "    model_id=\"anthropic.claude-3-sonnet-20240229-v1:0\",\n",
    "    model_kwargs=dict(temperature=0)\n",
    ")\n",
    "\n",
    "llm_transformer = LLMGraphTransformer(llm=bedrock_llm, node_properties=[\"description\"])\n",
    "graph_document = llm_transformer.convert_to_graph_documents(docs)\n",
    "print(graph_document)\n",
    "print(f\"Node count = {len(graph_document[0].nodes)}, relationship count = {len(graph_document[0].relationships)}\")\n"
   ]
  },
  {
   "cell_type": "code",
   "execution_count": 25,
   "metadata": {},
   "outputs": [
    {
     "name": "stdout",
     "output_type": "stream",
     "text": [
      "[GraphDocument(nodes=[Node(id='Stephen Hawking', type='Person', properties={'description': 'English theoretical physicist'})], relationships=[Relationship(source=Node(id='Stephen Hawking', type='Person'), target=Node(id='University College, Oxford', type='Organization'), type='STUDIED_AT'), Relationship(source=Node(id='Stephen Hawking', type='Person'), target=Node(id='Trinity Hall, Cambridge', type='Organization'), type='STUDIED_AT'), Relationship(source=Node(id='Stephen Hawking', type='Person'), target=Node(id='Gonville And Caius College At Cambridge', type='Organization'), type='RESEARCH_FELLOW'), Relationship(source=Node(id='Stephen Hawking', type='Person'), target=Node(id='Black Holes', type='Concept'), type='WORKED_ON'), Relationship(source=Node(id='Stephen Hawking', type='Person'), target=Node(id='Space-Time Singularities', type='Concept'), type='WORKED_ON'), Relationship(source=Node(id='Stephen Hawking', type='Person'), target=Node(id='Amyotrophic Lateral Sclerosis', type='Disease'), type='DIAGNOSED_WITH'), Relationship(source=Node(id='Stephen Hawking', type='Person'), target=Node(id='Mini Black Holes', type='Concept'), type='PROPOSED')], source=Document(page_content='Stephen Hawking (born January 8, 1942, Oxford, Oxfordshire, England—died March 14, 2018, Cambridge, \\nCambridgeshire) was an English theoretical physicist whose theory of exploding black holes drew upon both relativity \\ntheory and quantum mechanics. He also worked with space-time singularities.\\nHawking studied physics at University College, Oxford (B.A., 1962), and Trinity Hall, Cambridge (Ph.D., 1966). \\nHe was elected a research fellow at Gonville and Caius College at Cambridge. In the early 1960s Hawking contracted \\namyotrophic lateral sclerosis, an incurable degenerative neuromuscular disease. He continued to work despite the \\ndisease’s progressively disabling effects.Hawking worked primarily in the field of general relativity and particularly \\non the physics of black holes. In 1971 he suggested the formation, following the big bang, of numerous objects \\ncontaining as much as one billion tons of mass but occupying only the space of a proton. These objects, called \\nmini black holes, are unique in that their immense mass and gravity require that they be ruled by the laws of \\nrelativity, while their minute size requires that the laws of quantum mechanics apply to them also.'))]\n",
      "Node count = 1, relationship count = 7\n"
     ]
    },
    {
     "name": "stderr",
     "output_type": "stream",
     "text": [
      "Failed to batch ingest runs: LangSmithRateLimitError('Rate limit exceeded for https://api.smith.langchain.com/runs/batch. HTTPError(\\'429 Client Error: Too Many Requests for url: https://api.smith.langchain.com/runs/batch\\', \\'{\"detail\":\"Usage limit monthly_traces of 10000 exceeded\"}\\')')\n",
      "Failed to batch ingest runs: LangSmithRateLimitError('Rate limit exceeded for https://api.smith.langchain.com/runs/batch. HTTPError(\\'429 Client Error: Too Many Requests for url: https://api.smith.langchain.com/runs/batch\\', \\'{\"detail\":\"Usage limit monthly_traces of 10000 exceeded\"}\\')')\n"
     ]
    }
   ],
   "source": [
    "#Bedrock anthropic.claude-3-haiku-20240307-v1:0 model\n",
    "from langchain_aws import ChatBedrock\n",
    "import boto3\n",
    "\n",
    "model_name,aws_access_key,aws_secret_key,region_name=os.environ.get(\"LLM_MODEL_CONFIG_bedrock_claude_3_5_sonnet\").split(',')\n",
    "bedrock_client = boto3.client(\n",
    "    service_name=\"bedrock-runtime\",\n",
    "    region_name=region_name,\n",
    "    aws_access_key_id=aws_access_key,\n",
    "    aws_secret_access_key=aws_secret_key,\n",
    ")\n",
    "\n",
    "bedrock_llm = ChatBedrock(\n",
    "    client = bedrock_client,\n",
    "    model_id=\"anthropic.claude-3-haiku-20240307-v1:0\",\n",
    "    model_kwargs=dict(temperature=0)\n",
    ")\n",
    "\n",
    "llm_transformer = LLMGraphTransformer(llm=bedrock_llm, node_properties=[\"description\"])\n",
    "graph_document = llm_transformer.convert_to_graph_documents(docs)\n",
    "print(graph_document)\n",
    "print(f\"Node count = {len(graph_document[0].nodes)}, relationship count = {len(graph_document[0].relationships)}\")"
   ]
  },
  {
   "cell_type": "markdown",
   "metadata": {},
   "source": [
    "Anthropic Claude"
   ]
  },
  {
   "cell_type": "code",
   "execution_count": 31,
   "metadata": {},
   "outputs": [
    {
     "name": "stdout",
     "output_type": "stream",
     "text": [
      "[GraphDocument(nodes=[Node(id='Stephen Hawking', type='Person', properties={'description': 'English theoretical physicist'}), Node(id='Oxford', type='Place'), Node(id='Cambridge', type='Place'), Node(id='University College, Oxford', type='Organization'), Node(id='Trinity Hall, Cambridge', type='Organization'), Node(id='Gonville And Caius College', type='Organization'), Node(id='Amyotrophic Lateral Sclerosis', type='Disease'), Node(id='General Relativity', type='Concept'), Node(id='Black Holes', type='Concept'), Node(id='Mini Black Holes', type='Concept'), Node(id='Quantum Mechanics', type='Concept')], relationships=[], source=Document(page_content='Stephen Hawking (born January 8, 1942, Oxford, Oxfordshire, England—died March 14, 2018, Cambridge, \\nCambridgeshire) was an English theoretical physicist whose theory of exploding black holes drew upon both relativity \\ntheory and quantum mechanics. He also worked with space-time singularities.\\nHawking studied physics at University College, Oxford (B.A., 1962), and Trinity Hall, Cambridge (Ph.D., 1966). \\nHe was elected a research fellow at Gonville and Caius College at Cambridge. In the early 1960s Hawking contracted \\namyotrophic lateral sclerosis, an incurable degenerative neuromuscular disease. He continued to work despite the \\ndisease’s progressively disabling effects.Hawking worked primarily in the field of general relativity and particularly \\non the physics of black holes. In 1971 he suggested the formation, following the big bang, of numerous objects \\ncontaining as much as one billion tons of mass but occupying only the space of a proton. These objects, called \\nmini black holes, are unique in that their immense mass and gravity require that they be ruled by the laws of \\nrelativity, while their minute size requires that the laws of quantum mechanics apply to them also.'))]\n",
      "Node count = 11, relationship count = 0\n"
     ]
    },
    {
     "name": "stderr",
     "output_type": "stream",
     "text": [
      "Failed to batch ingest runs: LangSmithRateLimitError('Rate limit exceeded for https://api.smith.langchain.com/runs/batch. HTTPError(\\'429 Client Error: Too Many Requests for url: https://api.smith.langchain.com/runs/batch\\', \\'{\"detail\":\"Usage limit monthly_traces of 10000 exceeded\"}\\')')\n"
     ]
    }
   ],
   "source": [
    "#anthropic claude-3-5-sonnet without any user prompt gives nodes but no relationship\n",
    "from langchain_anthropic import ChatAnthropic\n",
    "\n",
    "model_name, api_key = os.environ.get(\"LLM_MODEL_CONFIG_anthropic_claude_3_5_sonnet\").split(',')\n",
    "anthropic_llm = ChatAnthropic(\n",
    "            api_key=api_key,\n",
    "            model=model_name, #claude-3-5-sonnet-202406201\n",
    "            temperature=0,\n",
    "            timeout=None\n",
    "        ) \n",
    "\n",
    "llm_transformer = LLMGraphTransformer(llm=anthropic_llm, node_properties=[\"description\"])\n",
    "graph_document = llm_transformer.convert_to_graph_documents(docs)\n",
    "print(graph_document)\n",
    "print(f\"Node count = {len(graph_document[0].nodes)}, relationship count = {len(graph_document[0].relationships)}\")\n"
   ]
  },
  {
   "cell_type": "code",
   "execution_count": 33,
   "metadata": {},
   "outputs": [
    {
     "name": "stdout",
     "output_type": "stream",
     "text": [
      "[GraphDocument(nodes=[Node(id='Stephen Hawking', type='Person', properties={'description': 'English theoretical physicist whose theory of exploding black holes drew upon both relativity theory and quantum mechanics. He also worked with space-time singularities.'}), Node(id='University College, Oxford', type='Institution'), Node(id='Trinity Hall, Cambridge', type='Institution'), Node(id='Gonville And Caius College', type='Institution'), Node(id='Amyotrophic Lateral Sclerosis', type='Disease'), Node(id='General Relativity', type='Field'), Node(id='Black Holes', type='Astronomical object'), Node(id='Mini Black Holes', type='Astronomical object')], relationships=[Relationship(source=Node(id='Stephen Hawking', type='Person'), target=Node(id='University College, Oxford', type='Institution'), type='STUDIED_AT'), Relationship(source=Node(id='Stephen Hawking', type='Person'), target=Node(id='Trinity Hall, Cambridge', type='Institution'), type='STUDIED_AT'), Relationship(source=Node(id='Stephen Hawking', type='Person'), target=Node(id='Gonville And Caius College', type='Institution'), type='RESEARCH_FELLOW'), Relationship(source=Node(id='Stephen Hawking', type='Person'), target=Node(id='Amyotrophic Lateral Sclerosis', type='Disease'), type='DIAGNOSED_WITH'), Relationship(source=Node(id='Stephen Hawking', type='Person'), target=Node(id='General Relativity', type='Field'), type='WORKED_IN'), Relationship(source=Node(id='Stephen Hawking', type='Person'), target=Node(id='Black Holes', type='Astronomical object'), type='STUDIED'), Relationship(source=Node(id='Stephen Hawking', type='Person'), target=Node(id='Mini Black Holes', type='Astronomical object'), type='THEORIZED')], source=Document(page_content='Stephen Hawking (born January 8, 1942, Oxford, Oxfordshire, England—died March 14, 2018, Cambridge, \\nCambridgeshire) was an English theoretical physicist whose theory of exploding black holes drew upon both relativity \\ntheory and quantum mechanics. He also worked with space-time singularities.\\nHawking studied physics at University College, Oxford (B.A., 1962), and Trinity Hall, Cambridge (Ph.D., 1966). \\nHe was elected a research fellow at Gonville and Caius College at Cambridge. In the early 1960s Hawking contracted \\namyotrophic lateral sclerosis, an incurable degenerative neuromuscular disease. He continued to work despite the \\ndisease’s progressively disabling effects.Hawking worked primarily in the field of general relativity and particularly \\non the physics of black holes. In 1971 he suggested the formation, following the big bang, of numerous objects \\ncontaining as much as one billion tons of mass but occupying only the space of a proton. These objects, called \\nmini black holes, are unique in that their immense mass and gravity require that they be ruled by the laws of \\nrelativity, while their minute size requires that the laws of quantum mechanics apply to them also.'))]\n",
      "Node count = 8, relationship count = 7\n"
     ]
    },
    {
     "name": "stderr",
     "output_type": "stream",
     "text": [
      "Failed to batch ingest runs: LangSmithRateLimitError('Rate limit exceeded for https://api.smith.langchain.com/runs/batch. HTTPError(\\'429 Client Error: Too Many Requests for url: https://api.smith.langchain.com/runs/batch\\', \\'{\"detail\":\"Usage limit monthly_traces of 10000 exceeded\"}\\')')\n"
     ]
    }
   ],
   "source": [
    "#anthropic claude-3-opus without any user prompt gives nodes and relationship\n",
    "from langchain_anthropic import ChatAnthropic\n",
    "\n",
    "model_name, api_key = os.environ.get(\"LLM_MODEL_CONFIG_anthropic_claude_3_opus\").split(',')\n",
    "anthropic_llm = ChatAnthropic(\n",
    "            api_key=api_key,\n",
    "            model=model_name, #claude-3-opus-20240229\n",
    "            temperature=0,\n",
    "            timeout=None\n",
    "        ) \n",
    "\n",
    "llm_transformer = LLMGraphTransformer(llm=anthropic_llm, node_properties=[\"description\"])\n",
    "graph_document = llm_transformer.convert_to_graph_documents(docs)\n",
    "print(graph_document)\n",
    "print(f\"Node count = {len(graph_document[0].nodes)}, relationship count = {len(graph_document[0].relationships)}\")\n"
   ]
  },
  {
   "cell_type": "code",
   "execution_count": 34,
   "metadata": {},
   "outputs": [
    {
     "name": "stdout",
     "output_type": "stream",
     "text": [
      "[GraphDocument(nodes=[Node(id='Stephen Hawking', type='Person', properties={'description': 'English theoretical physicist'})], relationships=[Relationship(source=Node(id='Stephen Hawking', type='Person'), target=Node(id='University College, Oxford', type='Organization'), type='STUDIED_AT'), Relationship(source=Node(id='Stephen Hawking', type='Person'), target=Node(id='Trinity Hall, Cambridge', type='Organization'), type='STUDIED_AT'), Relationship(source=Node(id='Stephen Hawking', type='Person'), target=Node(id='Gonville And Caius College At Cambridge', type='Organization'), type='RESEARCH_FELLOW'), Relationship(source=Node(id='Stephen Hawking', type='Person'), target=Node(id='General Relativity', type='Field'), type='WORKED_IN'), Relationship(source=Node(id='Stephen Hawking', type='Person'), target=Node(id='Black Holes', type='Concept'), type='WORKED_ON'), Relationship(source=Node(id='Stephen Hawking', type='Person'), target=Node(id='Mini Black Holes', type='Concept'), type='SUGGESTED'), Relationship(source=Node(id='Stephen Hawking', type='Person'), target=Node(id='Amyotrophic Lateral Sclerosis', type='Disease'), type='CONTRACTED')], source=Document(page_content='Stephen Hawking (born January 8, 1942, Oxford, Oxfordshire, England—died March 14, 2018, Cambridge, \\nCambridgeshire) was an English theoretical physicist whose theory of exploding black holes drew upon both relativity \\ntheory and quantum mechanics. He also worked with space-time singularities.\\nHawking studied physics at University College, Oxford (B.A., 1962), and Trinity Hall, Cambridge (Ph.D., 1966). \\nHe was elected a research fellow at Gonville and Caius College at Cambridge. In the early 1960s Hawking contracted \\namyotrophic lateral sclerosis, an incurable degenerative neuromuscular disease. He continued to work despite the \\ndisease’s progressively disabling effects.Hawking worked primarily in the field of general relativity and particularly \\non the physics of black holes. In 1971 he suggested the formation, following the big bang, of numerous objects \\ncontaining as much as one billion tons of mass but occupying only the space of a proton. These objects, called \\nmini black holes, are unique in that their immense mass and gravity require that they be ruled by the laws of \\nrelativity, while their minute size requires that the laws of quantum mechanics apply to them also.'))]\n",
      "Node count = 1, relationship count = 7\n"
     ]
    },
    {
     "name": "stderr",
     "output_type": "stream",
     "text": [
      "Failed to batch ingest runs: LangSmithRateLimitError('Rate limit exceeded for https://api.smith.langchain.com/runs/batch. HTTPError(\\'429 Client Error: Too Many Requests for url: https://api.smith.langchain.com/runs/batch\\', \\'{\"detail\":\"Usage limit monthly_traces of 10000 exceeded\"}\\')')\n"
     ]
    }
   ],
   "source": [
    "#anthropic claude-3-haiku without any user prompt gives nodes and relationship\n",
    "from langchain_anthropic import ChatAnthropic\n",
    "\n",
    "model_name, api_key = os.environ.get(\"LLM_MODEL_CONFIG_anthropic_claude_3_haiku\").split(',')\n",
    "anthropic_llm = ChatAnthropic(\n",
    "            api_key=api_key,\n",
    "            model=model_name, #claude-3-haiku-20240307\n",
    "            temperature=0,\n",
    "            timeout=None\n",
    "        ) \n",
    "\n",
    "llm_transformer = LLMGraphTransformer(llm=anthropic_llm, node_properties=[\"description\"])\n",
    "graph_document = llm_transformer.convert_to_graph_documents(docs)\n",
    "print(graph_document)\n",
    "print(f\"Node count = {len(graph_document[0].nodes)}, relationship count = {len(graph_document[0].relationships)}\")\n"
   ]
  },
  {
   "cell_type": "code",
   "execution_count": 35,
   "metadata": {},
   "outputs": [
    {
     "name": "stdout",
     "output_type": "stream",
     "text": [
      "[GraphDocument(nodes=[Node(id='Albert Einstein', type='Person', properties={'description': 'Renowned physicist known for the theory of relativity'}), Node(id='Theory Of Relativity', type='Concept', properties={'description': 'A fundamental theory in physics developed by Albert Einstein'}), Node(id='Physics', type='Field', properties={'description': 'The scientific study of matter, energy, and their interactions'}), Node(id='Nobel Prize', type='Award', properties={'description': 'Prestigious award given for outstanding achievements in various fields'}), Node(id='Princeton University', type='Organization', properties={'description': 'Prestigious Ivy League university in New Jersey, USA'})], relationships=[Relationship(source=Node(id='Albert Einstein', type='Person'), target=Node(id='Theory Of Relativity', type='Concept'), type='DEVELOPED'), Relationship(source=Node(id='Albert Einstein', type='Person'), target=Node(id='Physics', type='Field'), type='CONTRIBUTED_TO'), Relationship(source=Node(id='Albert Einstein', type='Person'), target=Node(id='Nobel Prize', type='Award'), type='RECEIVED'), Relationship(source=Node(id='Albert Einstein', type='Person'), target=Node(id='Princeton University', type='Organization'), type='AFFILIATED_WITH'), Relationship(source=Node(id='Theory Of Relativity', type='Concept'), target=Node(id='Physics', type='Field'), type='BELONGS_TO')], source=Document(page_content='Stephen Hawking (born January 8, 1942, Oxford, Oxfordshire, England—died March 14, 2018, Cambridge, \\nCambridgeshire) was an English theoretical physicist whose theory of exploding black holes drew upon both relativity \\ntheory and quantum mechanics. He also worked with space-time singularities.\\nHawking studied physics at University College, Oxford (B.A., 1962), and Trinity Hall, Cambridge (Ph.D., 1966). \\nHe was elected a research fellow at Gonville and Caius College at Cambridge. In the early 1960s Hawking contracted \\namyotrophic lateral sclerosis, an incurable degenerative neuromuscular disease. He continued to work despite the \\ndisease’s progressively disabling effects.Hawking worked primarily in the field of general relativity and particularly \\non the physics of black holes. In 1971 he suggested the formation, following the big bang, of numerous objects \\ncontaining as much as one billion tons of mass but occupying only the space of a proton. These objects, called \\nmini black holes, are unique in that their immense mass and gravity require that they be ruled by the laws of \\nrelativity, while their minute size requires that the laws of quantum mechanics apply to them also.'))]\n",
      "Node count = 5, relationship count = 5\n"
     ]
    }
   ],
   "source": [
    "#anthropic claude-3-5-sonnet with prompt\n",
    "from langchain_anthropic import ChatAnthropic\n",
    "\n",
    "model_name, api_key = os.environ.get(\"LLM_MODEL_CONFIG_anthropic_claude_3_5_sonnet\").split(',')\n",
    "anthropic_llm = ChatAnthropic(\n",
    "            api_key=api_key,\n",
    "            model=model_name, #claude-3-5-sonnet-202406201\n",
    "            temperature=0,\n",
    "            timeout=None\n",
    "        ) \n",
    "\n",
    "prompt = ChatPromptTemplate.from_messages([\n",
    "        (\"user\",(\"Get possible nodes and relationships between nodes from the text provided\")),\n",
    "    ])\n",
    "\n",
    "llm_transformer = LLMGraphTransformer(prompt=prompt, llm=anthropic_llm, node_properties=[\"description\"])\n",
    "graph_document = llm_transformer.convert_to_graph_documents(docs)\n",
    "print(graph_document)\n",
    "print(f\"Node count = {len(graph_document[0].nodes)}, relationship count = {len(graph_document[0].relationships)}\")\n"
   ]
  },
  {
   "cell_type": "code",
   "execution_count": 39,
   "metadata": {},
   "outputs": [
    {
     "name": "stdout",
     "output_type": "stream",
     "text": [
      "[GraphDocument(nodes=[Node(id='Albert Einstein', type='Person', properties={'description': 'German-born theoretical physicist'}), Node(id='Germany', type='Location', properties={'description': 'Country in Central Europe'}), Node(id='United States', type='Location', properties={'description': 'Country in North America'}), Node(id='Princeton University', type='Organization', properties={'description': 'Private Ivy League research university in Princeton, New Jersey'}), Node(id='Theory Of Relativity', type='Concept', properties={'description': 'Fundamental theory in physics developed by Albert Einstein'}), Node(id='Physics', type='Concept', properties={'description': 'Natural science that studies matter, its motion and behavior through space and time'})], relationships=[Relationship(source=Node(id='Albert Einstein', type='Person'), target=Node(id='Germany', type='Location'), type='BORN_IN'), Relationship(source=Node(id='Albert Einstein', type='Person'), target=Node(id='United States', type='Location'), type='IMMIGRATED_TO'), Relationship(source=Node(id='Albert Einstein', type='Person'), target=Node(id='Princeton University', type='Organization'), type='AFFILIATED_WITH'), Relationship(source=Node(id='Albert Einstein', type='Person'), target=Node(id='Theory Of Relativity', type='Concept'), type='DEVELOPED'), Relationship(source=Node(id='Albert Einstein', type='Person'), target=Node(id='Physics', type='Concept'), type='CONTRIBUTED_TO'), Relationship(source=Node(id='Theory Of Relativity', type='Concept'), target=Node(id='Physics', type='Concept'), type='PART_OF'), Relationship(source=Node(id='Princeton University', type='Organization'), target=Node(id='United States', type='Location'), type='LOCATED_IN')], source=Document(page_content='Stephen Hawking (born January 8, 1942, Oxford, Oxfordshire, England—died March 14, 2018, Cambridge, \\nCambridgeshire) was an English theoretical physicist whose theory of exploding black holes drew upon both relativity \\ntheory and quantum mechanics. He also worked with space-time singularities.\\nHawking studied physics at University College, Oxford (B.A., 1962), and Trinity Hall, Cambridge (Ph.D., 1966). \\nHe was elected a research fellow at Gonville and Caius College at Cambridge. In the early 1960s Hawking contracted \\namyotrophic lateral sclerosis, an incurable degenerative neuromuscular disease. He continued to work despite the \\ndisease’s progressively disabling effects.Hawking worked primarily in the field of general relativity and particularly \\non the physics of black holes. In 1971 he suggested the formation, following the big bang, of numerous objects \\ncontaining as much as one billion tons of mass but occupying only the space of a proton. These objects, called \\nmini black holes, are unique in that their immense mass and gravity require that they be ruled by the laws of \\nrelativity, while their minute size requires that the laws of quantum mechanics apply to them also.'))]\n",
      "Node count = 6, relationship count = 7\n"
     ]
    },
    {
     "name": "stderr",
     "output_type": "stream",
     "text": [
      "Failed to batch ingest runs: LangSmithRateLimitError('Rate limit exceeded for https://api.smith.langchain.com/runs/batch. HTTPError(\\'429 Client Error: Too Many Requests for url: https://api.smith.langchain.com/runs/batch\\', \\'{\"detail\":\"Usage limit monthly_traces of 10000 exceeded\"}\\')')\n",
      "Failed to batch ingest runs: LangSmithRateLimitError('Rate limit exceeded for https://api.smith.langchain.com/runs/batch. HTTPError(\\'429 Client Error: Too Many Requests for url: https://api.smith.langchain.com/runs/batch\\', \\'{\"detail\":\"Usage limit monthly_traces of 10000 exceeded\"}\\')')\n"
     ]
    }
   ],
   "source": [
    "#anthropic with prompt2\n",
    "from langchain_anthropic import ChatAnthropic\n",
    "\n",
    "model_name, api_key = os.environ.get(\"LLM_MODEL_CONFIG_anthropic_claude_3_5_sonnet\").split(',')\n",
    "anthropic_llm = ChatAnthropic(\n",
    "            api_key=api_key,\n",
    "            model=model_name, #claude-3-5-sonnet-202406201\n",
    "            temperature=0,\n",
    "            timeout=None\n",
    "        ) \n",
    "\n",
    "prompt = ChatPromptTemplate.from_messages([\n",
    "        (\"human\",(prompt2)),\n",
    "    ])\n",
    "\n",
    "llm_transformer = LLMGraphTransformer(prompt=prompt, llm=anthropic_llm, node_properties=[\"description\"])\n",
    "graph_document = llm_transformer.convert_to_graph_documents(docs)\n",
    "print(graph_document)\n",
    "print(f\"Node count = {len(graph_document[0].nodes)}, relationship count = {len(graph_document[0].relationships)}\")\n"
   ]
  },
  {
   "cell_type": "code",
   "execution_count": 38,
   "metadata": {},
   "outputs": [
    {
     "name": "stderr",
     "output_type": "stream",
     "text": [
      "Failed to batch ingest runs: LangSmithRateLimitError('Rate limit exceeded for https://api.smith.langchain.com/runs/batch. HTTPError(\\'429 Client Error: Too Many Requests for url: https://api.smith.langchain.com/runs/batch\\', \\'{\"detail\":\"Usage limit monthly_traces of 10000 exceeded\"}\\')')\n"
     ]
    },
    {
     "name": "stdout",
     "output_type": "stream",
     "text": [
      "[GraphDocument(nodes=[Node(id='Claude', type='Ai', properties={'description': 'Highly capable AI assistant designed to extract structured information from text to build knowledge graphs'}), Node(id='Knowledge Graph', type='Concept', properties={'description': 'A structured representation of information consisting of nodes and relationships'}), Node(id='Node', type='Concept', properties={'description': 'Represents entities and concepts in a knowledge graph'}), Node(id='Relationship', type='Concept', properties={'description': 'Represents connections between nodes in a knowledge graph'})], relationships=[Relationship(source=Node(id='Claude', type='Ai'), target=Node(id='Knowledge Graph', type='Concept'), type='BUILDS'), Relationship(source=Node(id='Knowledge Graph', type='Concept'), target=Node(id='Node', type='Concept'), type='CONTAINS'), Relationship(source=Node(id='Knowledge Graph', type='Concept'), target=Node(id='Relationship', type='Concept'), type='CONTAINS')], source=Document(page_content='Stephen Hawking (born January 8, 1942, Oxford, Oxfordshire, England—died March 14, 2018, Cambridge, \\nCambridgeshire) was an English theoretical physicist whose theory of exploding black holes drew upon both relativity \\ntheory and quantum mechanics. He also worked with space-time singularities.\\nHawking studied physics at University College, Oxford (B.A., 1962), and Trinity Hall, Cambridge (Ph.D., 1966). \\nHe was elected a research fellow at Gonville and Caius College at Cambridge. In the early 1960s Hawking contracted \\namyotrophic lateral sclerosis, an incurable degenerative neuromuscular disease. He continued to work despite the \\ndisease’s progressively disabling effects.Hawking worked primarily in the field of general relativity and particularly \\non the physics of black holes. In 1971 he suggested the formation, following the big bang, of numerous objects \\ncontaining as much as one billion tons of mass but occupying only the space of a proton. These objects, called \\nmini black holes, are unique in that their immense mass and gravity require that they be ruled by the laws of \\nrelativity, while their minute size requires that the laws of quantum mechanics apply to them also.'))]\n",
      "Node count = 4, relationship count = 3\n"
     ]
    }
   ],
   "source": [
    "#anthropic with prompt3\n",
    "from langchain_anthropic import ChatAnthropic\n",
    "\n",
    "prompt3=\"\"\"# Knowledge Graph Instructions for Claude\n",
    "\n",
    "## 1. Overview\n",
    "You are a highly capable AI assistant designed to extract structured information from text to build knowledge graphs. Your goal is to capture as much relevant information as possible while maintaining accuracy. Only include information explicitly stated in the given text.\n",
    "\n",
    "Key components:\n",
    "- Nodes: Represent entities and concepts\n",
    "- Relationships: Represent connections between nodes\n",
    "\n",
    "Aim for simplicity and clarity in the knowledge graph to make it accessible to a wide audience.\n",
    "\n",
    "## 2. Node and Relationship Guidelines\n",
    "\n",
    "- Use basic, general types for node labels (e.g. 'person' instead of 'mathematician')\n",
    "- Node IDs should be names or human-readable identifiers from the text, not integers\n",
    "- Use consistent and general relationship types (e.g. 'PROFESSOR' instead of 'BECAME_PROFESSOR')\n",
    "- Prefer timeless relationship types over momentary ones\n",
    "\n",
    "## 3. Coreference Resolution\n",
    "\n",
    "Maintain entity consistency throughout the knowledge graph:\n",
    "- Use the most complete identifier for an entity (e.g. \"John Doe\" instead of \"Joe\" or \"he\")\n",
    "- Ensure coherence by using consistent entity references\n",
    "\n",
    "## 4. Accuracy and Compliance\n",
    "\n",
    "- Only include information explicitly stated in the given text\n",
    "- Adhere strictly to these guidelines when constructing the knowledge graph\"\"\"\n",
    "\n",
    "model_name, api_key = os.environ.get(\"LLM_MODEL_CONFIG_anthropic_claude_3_5_sonnet\").split(',')\n",
    "anthropic_llm = ChatAnthropic(\n",
    "            api_key=api_key,\n",
    "            model=model_name, #claude-3-5-sonnet-202406201\n",
    "            temperature=0,\n",
    "            timeout=None\n",
    "        ) \n",
    "\n",
    "prompt = ChatPromptTemplate.from_messages([\n",
    "        (\"human\",(prompt3)),\n",
    "    ])\n",
    "\n",
    "llm_transformer = LLMGraphTransformer(prompt=prompt, llm=anthropic_llm, node_properties=[\"description\"])\n",
    "graph_document = llm_transformer.convert_to_graph_documents(docs)\n",
    "print(graph_document)\n",
    "print(f\"Node count = {len(graph_document[0].nodes)}, relationship count = {len(graph_document[0].relationships)}\")\n"
   ]
  },
  {
   "cell_type": "markdown",
   "metadata": {},
   "source": [
    "Observations -\n",
    "\n",
    "Fireworks - Only firefunction-v2 model is able to extract nodes and relationships, if we directly call llm without any schema then it gives nodes and relationships in json format.\n",
    "\n",
    "Bedrock - Not getting nodes and relations with claude sonnet model but getting with claude haiku.\n",
    "\n",
    "Anthropic claude - claude-3-5-sonnet gives nodes but no relationships without human prompt, claude-opus gives descent amout of nodes and relationships and haiku gives nodes and relationships but node count is incorrect. With claude-3-5-sonnet if brief human prompt is given then it gives nodes and relationships.\n"
   ]
  },
  {
   "cell_type": "markdown",
   "metadata": {},
   "source": []
  }
 ],
 "metadata": {
  "kernelspec": {
   "display_name": "Python 3",
   "language": "python",
   "name": "python3"
  },
  "language_info": {
   "codemirror_mode": {
    "name": "ipython",
    "version": 3
   },
   "file_extension": ".py",
   "mimetype": "text/x-python",
   "name": "python",
   "nbconvert_exporter": "python",
   "pygments_lexer": "ipython3",
   "version": "3.10.13"
  }
 },
 "nbformat": 4,
 "nbformat_minor": 2
}
